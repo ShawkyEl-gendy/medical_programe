{
 "cells": [
  {
   "cell_type": "markdown",
   "id": "33d2cd32",
   "metadata": {},
   "source": [
    "# project:No-show appointments"
   ]
  },
  {
   "cell_type": "code",
   "execution_count": 1,
   "id": "c6042bfb",
   "metadata": {},
   "outputs": [],
   "source": [
    "import pandas as pd\n",
    "import numpy as np\n",
    "import matplotlib.pyplot as plt\n",
    "%matplotlib inline"
   ]
  },
  {
   "cell_type": "markdown",
   "id": "89f6fc0a",
   "metadata": {},
   "source": [
    "## Data Wrangling"
   ]
  },
  {
   "cell_type": "code",
   "execution_count": 2,
   "id": "39811e35",
   "metadata": {},
   "outputs": [
    {
     "data": {
      "text/html": [
       "<div>\n",
       "<style scoped>\n",
       "    .dataframe tbody tr th:only-of-type {\n",
       "        vertical-align: middle;\n",
       "    }\n",
       "\n",
       "    .dataframe tbody tr th {\n",
       "        vertical-align: top;\n",
       "    }\n",
       "\n",
       "    .dataframe thead th {\n",
       "        text-align: right;\n",
       "    }\n",
       "</style>\n",
       "<table border=\"1\" class=\"dataframe\">\n",
       "  <thead>\n",
       "    <tr style=\"text-align: right;\">\n",
       "      <th></th>\n",
       "      <th>PatientId</th>\n",
       "      <th>AppointmentID</th>\n",
       "      <th>Gender</th>\n",
       "      <th>ScheduledDay</th>\n",
       "      <th>AppointmentDay</th>\n",
       "      <th>Age</th>\n",
       "      <th>Neighbourhood</th>\n",
       "      <th>Scholarship</th>\n",
       "      <th>Hipertension</th>\n",
       "      <th>Diabetes</th>\n",
       "      <th>Alcoholism</th>\n",
       "      <th>Handcap</th>\n",
       "      <th>SMS_received</th>\n",
       "      <th>No-show</th>\n",
       "    </tr>\n",
       "  </thead>\n",
       "  <tbody>\n",
       "    <tr>\n",
       "      <th>0</th>\n",
       "      <td>2.987250e+13</td>\n",
       "      <td>5642903</td>\n",
       "      <td>F</td>\n",
       "      <td>2016-04-29T18:38:08Z</td>\n",
       "      <td>2016-04-29T00:00:00Z</td>\n",
       "      <td>62</td>\n",
       "      <td>JARDIM DA PENHA</td>\n",
       "      <td>0</td>\n",
       "      <td>1</td>\n",
       "      <td>0</td>\n",
       "      <td>0</td>\n",
       "      <td>0</td>\n",
       "      <td>0</td>\n",
       "      <td>No</td>\n",
       "    </tr>\n",
       "    <tr>\n",
       "      <th>1</th>\n",
       "      <td>5.589978e+14</td>\n",
       "      <td>5642503</td>\n",
       "      <td>M</td>\n",
       "      <td>2016-04-29T16:08:27Z</td>\n",
       "      <td>2016-04-29T00:00:00Z</td>\n",
       "      <td>56</td>\n",
       "      <td>JARDIM DA PENHA</td>\n",
       "      <td>0</td>\n",
       "      <td>0</td>\n",
       "      <td>0</td>\n",
       "      <td>0</td>\n",
       "      <td>0</td>\n",
       "      <td>0</td>\n",
       "      <td>No</td>\n",
       "    </tr>\n",
       "    <tr>\n",
       "      <th>2</th>\n",
       "      <td>4.262962e+12</td>\n",
       "      <td>5642549</td>\n",
       "      <td>F</td>\n",
       "      <td>2016-04-29T16:19:04Z</td>\n",
       "      <td>2016-04-29T00:00:00Z</td>\n",
       "      <td>62</td>\n",
       "      <td>MATA DA PRAIA</td>\n",
       "      <td>0</td>\n",
       "      <td>0</td>\n",
       "      <td>0</td>\n",
       "      <td>0</td>\n",
       "      <td>0</td>\n",
       "      <td>0</td>\n",
       "      <td>No</td>\n",
       "    </tr>\n",
       "    <tr>\n",
       "      <th>3</th>\n",
       "      <td>8.679512e+11</td>\n",
       "      <td>5642828</td>\n",
       "      <td>F</td>\n",
       "      <td>2016-04-29T17:29:31Z</td>\n",
       "      <td>2016-04-29T00:00:00Z</td>\n",
       "      <td>8</td>\n",
       "      <td>PONTAL DE CAMBURI</td>\n",
       "      <td>0</td>\n",
       "      <td>0</td>\n",
       "      <td>0</td>\n",
       "      <td>0</td>\n",
       "      <td>0</td>\n",
       "      <td>0</td>\n",
       "      <td>No</td>\n",
       "    </tr>\n",
       "    <tr>\n",
       "      <th>4</th>\n",
       "      <td>8.841186e+12</td>\n",
       "      <td>5642494</td>\n",
       "      <td>F</td>\n",
       "      <td>2016-04-29T16:07:23Z</td>\n",
       "      <td>2016-04-29T00:00:00Z</td>\n",
       "      <td>56</td>\n",
       "      <td>JARDIM DA PENHA</td>\n",
       "      <td>0</td>\n",
       "      <td>1</td>\n",
       "      <td>1</td>\n",
       "      <td>0</td>\n",
       "      <td>0</td>\n",
       "      <td>0</td>\n",
       "      <td>No</td>\n",
       "    </tr>\n",
       "  </tbody>\n",
       "</table>\n",
       "</div>"
      ],
      "text/plain": [
       "      PatientId  AppointmentID Gender          ScheduledDay  \\\n",
       "0  2.987250e+13        5642903      F  2016-04-29T18:38:08Z   \n",
       "1  5.589978e+14        5642503      M  2016-04-29T16:08:27Z   \n",
       "2  4.262962e+12        5642549      F  2016-04-29T16:19:04Z   \n",
       "3  8.679512e+11        5642828      F  2016-04-29T17:29:31Z   \n",
       "4  8.841186e+12        5642494      F  2016-04-29T16:07:23Z   \n",
       "\n",
       "         AppointmentDay  Age      Neighbourhood  Scholarship  Hipertension  \\\n",
       "0  2016-04-29T00:00:00Z   62    JARDIM DA PENHA            0             1   \n",
       "1  2016-04-29T00:00:00Z   56    JARDIM DA PENHA            0             0   \n",
       "2  2016-04-29T00:00:00Z   62      MATA DA PRAIA            0             0   \n",
       "3  2016-04-29T00:00:00Z    8  PONTAL DE CAMBURI            0             0   \n",
       "4  2016-04-29T00:00:00Z   56    JARDIM DA PENHA            0             1   \n",
       "\n",
       "   Diabetes  Alcoholism  Handcap  SMS_received No-show  \n",
       "0         0           0        0             0      No  \n",
       "1         0           0        0             0      No  \n",
       "2         0           0        0             0      No  \n",
       "3         0           0        0             0      No  \n",
       "4         1           0        0             0      No  "
      ]
     },
     "execution_count": 2,
     "metadata": {},
     "output_type": "execute_result"
    }
   ],
   "source": [
    "#read file 'KaggleV2-May-2016.csv' :\n",
    "df=pd.read_csv('KaggleV2-May-2016.csv')\n",
    "df.head()"
   ]
  },
  {
   "cell_type": "code",
   "execution_count": 3,
   "id": "e739fe80",
   "metadata": {},
   "outputs": [
    {
     "data": {
      "text/plain": [
       "(110527, 14)"
      ]
     },
     "execution_count": 3,
     "metadata": {},
     "output_type": "execute_result"
    }
   ],
   "source": [
    "df.shape"
   ]
  },
  {
   "cell_type": "code",
   "execution_count": 4,
   "id": "df9fb1b4",
   "metadata": {},
   "outputs": [
    {
     "name": "stdout",
     "output_type": "stream",
     "text": [
      "<class 'pandas.core.frame.DataFrame'>\n",
      "RangeIndex: 110527 entries, 0 to 110526\n",
      "Data columns (total 14 columns):\n",
      " #   Column          Non-Null Count   Dtype  \n",
      "---  ------          --------------   -----  \n",
      " 0   PatientId       110527 non-null  float64\n",
      " 1   AppointmentID   110527 non-null  int64  \n",
      " 2   Gender          110527 non-null  object \n",
      " 3   ScheduledDay    110527 non-null  object \n",
      " 4   AppointmentDay  110527 non-null  object \n",
      " 5   Age             110527 non-null  int64  \n",
      " 6   Neighbourhood   110527 non-null  object \n",
      " 7   Scholarship     110527 non-null  int64  \n",
      " 8   Hipertension    110527 non-null  int64  \n",
      " 9   Diabetes        110527 non-null  int64  \n",
      " 10  Alcoholism      110527 non-null  int64  \n",
      " 11  Handcap         110527 non-null  int64  \n",
      " 12  SMS_received    110527 non-null  int64  \n",
      " 13  No-show         110527 non-null  object \n",
      "dtypes: float64(1), int64(8), object(5)\n",
      "memory usage: 11.8+ MB\n"
     ]
    }
   ],
   "source": [
    "#information about data\n",
    "df.info()"
   ]
  },
  {
   "cell_type": "code",
   "execution_count": 5,
   "id": "976e17db",
   "metadata": {},
   "outputs": [
    {
     "data": {
      "text/html": [
       "<div>\n",
       "<style scoped>\n",
       "    .dataframe tbody tr th:only-of-type {\n",
       "        vertical-align: middle;\n",
       "    }\n",
       "\n",
       "    .dataframe tbody tr th {\n",
       "        vertical-align: top;\n",
       "    }\n",
       "\n",
       "    .dataframe thead th {\n",
       "        text-align: right;\n",
       "    }\n",
       "</style>\n",
       "<table border=\"1\" class=\"dataframe\">\n",
       "  <thead>\n",
       "    <tr style=\"text-align: right;\">\n",
       "      <th></th>\n",
       "      <th>PatientId</th>\n",
       "      <th>AppointmentID</th>\n",
       "      <th>Age</th>\n",
       "      <th>Scholarship</th>\n",
       "      <th>Hipertension</th>\n",
       "      <th>Diabetes</th>\n",
       "      <th>Alcoholism</th>\n",
       "      <th>Handcap</th>\n",
       "      <th>SMS_received</th>\n",
       "    </tr>\n",
       "  </thead>\n",
       "  <tbody>\n",
       "    <tr>\n",
       "      <th>count</th>\n",
       "      <td>1.105270e+05</td>\n",
       "      <td>1.105270e+05</td>\n",
       "      <td>110527.000000</td>\n",
       "      <td>110527.000000</td>\n",
       "      <td>110527.000000</td>\n",
       "      <td>110527.000000</td>\n",
       "      <td>110527.000000</td>\n",
       "      <td>110527.000000</td>\n",
       "      <td>110527.000000</td>\n",
       "    </tr>\n",
       "    <tr>\n",
       "      <th>mean</th>\n",
       "      <td>1.474963e+14</td>\n",
       "      <td>5.675305e+06</td>\n",
       "      <td>37.088874</td>\n",
       "      <td>0.098266</td>\n",
       "      <td>0.197246</td>\n",
       "      <td>0.071865</td>\n",
       "      <td>0.030400</td>\n",
       "      <td>0.022248</td>\n",
       "      <td>0.321026</td>\n",
       "    </tr>\n",
       "    <tr>\n",
       "      <th>std</th>\n",
       "      <td>2.560949e+14</td>\n",
       "      <td>7.129575e+04</td>\n",
       "      <td>23.110205</td>\n",
       "      <td>0.297675</td>\n",
       "      <td>0.397921</td>\n",
       "      <td>0.258265</td>\n",
       "      <td>0.171686</td>\n",
       "      <td>0.161543</td>\n",
       "      <td>0.466873</td>\n",
       "    </tr>\n",
       "    <tr>\n",
       "      <th>min</th>\n",
       "      <td>3.921784e+04</td>\n",
       "      <td>5.030230e+06</td>\n",
       "      <td>-1.000000</td>\n",
       "      <td>0.000000</td>\n",
       "      <td>0.000000</td>\n",
       "      <td>0.000000</td>\n",
       "      <td>0.000000</td>\n",
       "      <td>0.000000</td>\n",
       "      <td>0.000000</td>\n",
       "    </tr>\n",
       "    <tr>\n",
       "      <th>25%</th>\n",
       "      <td>4.172614e+12</td>\n",
       "      <td>5.640286e+06</td>\n",
       "      <td>18.000000</td>\n",
       "      <td>0.000000</td>\n",
       "      <td>0.000000</td>\n",
       "      <td>0.000000</td>\n",
       "      <td>0.000000</td>\n",
       "      <td>0.000000</td>\n",
       "      <td>0.000000</td>\n",
       "    </tr>\n",
       "    <tr>\n",
       "      <th>50%</th>\n",
       "      <td>3.173184e+13</td>\n",
       "      <td>5.680573e+06</td>\n",
       "      <td>37.000000</td>\n",
       "      <td>0.000000</td>\n",
       "      <td>0.000000</td>\n",
       "      <td>0.000000</td>\n",
       "      <td>0.000000</td>\n",
       "      <td>0.000000</td>\n",
       "      <td>0.000000</td>\n",
       "    </tr>\n",
       "    <tr>\n",
       "      <th>75%</th>\n",
       "      <td>9.439172e+13</td>\n",
       "      <td>5.725524e+06</td>\n",
       "      <td>55.000000</td>\n",
       "      <td>0.000000</td>\n",
       "      <td>0.000000</td>\n",
       "      <td>0.000000</td>\n",
       "      <td>0.000000</td>\n",
       "      <td>0.000000</td>\n",
       "      <td>1.000000</td>\n",
       "    </tr>\n",
       "    <tr>\n",
       "      <th>max</th>\n",
       "      <td>9.999816e+14</td>\n",
       "      <td>5.790484e+06</td>\n",
       "      <td>115.000000</td>\n",
       "      <td>1.000000</td>\n",
       "      <td>1.000000</td>\n",
       "      <td>1.000000</td>\n",
       "      <td>1.000000</td>\n",
       "      <td>4.000000</td>\n",
       "      <td>1.000000</td>\n",
       "    </tr>\n",
       "  </tbody>\n",
       "</table>\n",
       "</div>"
      ],
      "text/plain": [
       "          PatientId  AppointmentID            Age    Scholarship  \\\n",
       "count  1.105270e+05   1.105270e+05  110527.000000  110527.000000   \n",
       "mean   1.474963e+14   5.675305e+06      37.088874       0.098266   \n",
       "std    2.560949e+14   7.129575e+04      23.110205       0.297675   \n",
       "min    3.921784e+04   5.030230e+06      -1.000000       0.000000   \n",
       "25%    4.172614e+12   5.640286e+06      18.000000       0.000000   \n",
       "50%    3.173184e+13   5.680573e+06      37.000000       0.000000   \n",
       "75%    9.439172e+13   5.725524e+06      55.000000       0.000000   \n",
       "max    9.999816e+14   5.790484e+06     115.000000       1.000000   \n",
       "\n",
       "        Hipertension       Diabetes     Alcoholism        Handcap  \\\n",
       "count  110527.000000  110527.000000  110527.000000  110527.000000   \n",
       "mean        0.197246       0.071865       0.030400       0.022248   \n",
       "std         0.397921       0.258265       0.171686       0.161543   \n",
       "min         0.000000       0.000000       0.000000       0.000000   \n",
       "25%         0.000000       0.000000       0.000000       0.000000   \n",
       "50%         0.000000       0.000000       0.000000       0.000000   \n",
       "75%         0.000000       0.000000       0.000000       0.000000   \n",
       "max         1.000000       1.000000       1.000000       4.000000   \n",
       "\n",
       "        SMS_received  \n",
       "count  110527.000000  \n",
       "mean        0.321026  \n",
       "std         0.466873  \n",
       "min         0.000000  \n",
       "25%         0.000000  \n",
       "50%         0.000000  \n",
       "75%         1.000000  \n",
       "max         1.000000  "
      ]
     },
     "execution_count": 5,
     "metadata": {},
     "output_type": "execute_result"
    }
   ],
   "source": [
    "#statistics information\n",
    "df.describe()"
   ]
  },
  {
   "cell_type": "markdown",
   "id": "9a765fa5",
   "metadata": {},
   "source": [
    "## clean data"
   ]
  },
  {
   "cell_type": "code",
   "execution_count": 6,
   "id": "079d677c",
   "metadata": {},
   "outputs": [
    {
     "data": {
      "text/plain": [
       "PatientId         0\n",
       "AppointmentID     0\n",
       "Gender            0\n",
       "ScheduledDay      0\n",
       "AppointmentDay    0\n",
       "Age               0\n",
       "Neighbourhood     0\n",
       "Scholarship       0\n",
       "Hipertension      0\n",
       "Diabetes          0\n",
       "Alcoholism        0\n",
       "Handcap           0\n",
       "SMS_received      0\n",
       "No-show           0\n",
       "dtype: int64"
      ]
     },
     "execution_count": 6,
     "metadata": {},
     "output_type": "execute_result"
    }
   ],
   "source": [
    "#columns have nan values\n",
    "df.isnull().sum()"
   ]
  },
  {
   "cell_type": "code",
   "execution_count": 7,
   "id": "b9300ea9",
   "metadata": {},
   "outputs": [
    {
     "data": {
      "text/plain": [
       "0"
      ]
     },
     "execution_count": 7,
     "metadata": {},
     "output_type": "execute_result"
    }
   ],
   "source": [
    "#chick for duplicated rows\n",
    "sum(df.duplicated())"
   ]
  },
  {
   "cell_type": "code",
   "execution_count": 8,
   "id": "4bc27ff1",
   "metadata": {},
   "outputs": [],
   "source": [
    "#Handicap column has five different values(0,1,2,3,4) so I converted (1,2,3,4) to 1 that means handicap and 0 not handicapped\n",
    "def replace_value(num):\n",
    "    if num>0 :\n",
    "        return 1\n",
    "    else:\n",
    "        return 0\n",
    "df['Handcap']=df['Handcap'].apply(lambda x:replace_value(x))"
   ]
  },
  {
   "cell_type": "code",
   "execution_count": 9,
   "id": "5a3c8e72",
   "metadata": {},
   "outputs": [],
   "source": [
    "#delet patiend less than 0\n",
    "df.drop(df[df['Age']<=0].index,axis=0,inplace=True)"
   ]
  },
  {
   "cell_type": "code",
   "execution_count": 10,
   "id": "b444f280",
   "metadata": {},
   "outputs": [],
   "source": [
    "#incorrect date\n",
    "df['ScheduledDay']=pd.to_datetime(df['ScheduledDay']).dt.date\n",
    "df['AppointmentDay']=pd.to_datetime(df['AppointmentDay']).dt.date"
   ]
  },
  {
   "cell_type": "code",
   "execution_count": 11,
   "id": "e80878ba",
   "metadata": {},
   "outputs": [
    {
     "data": {
      "text/html": [
       "<div>\n",
       "<style scoped>\n",
       "    .dataframe tbody tr th:only-of-type {\n",
       "        vertical-align: middle;\n",
       "    }\n",
       "\n",
       "    .dataframe tbody tr th {\n",
       "        vertical-align: top;\n",
       "    }\n",
       "\n",
       "    .dataframe thead th {\n",
       "        text-align: right;\n",
       "    }\n",
       "</style>\n",
       "<table border=\"1\" class=\"dataframe\">\n",
       "  <thead>\n",
       "    <tr style=\"text-align: right;\">\n",
       "      <th></th>\n",
       "      <th>ScheduledDay</th>\n",
       "      <th>AppointmentDay</th>\n",
       "    </tr>\n",
       "  </thead>\n",
       "  <tbody>\n",
       "    <tr>\n",
       "      <th>27033</th>\n",
       "      <td>2016-05-10</td>\n",
       "      <td>2016-05-09</td>\n",
       "    </tr>\n",
       "    <tr>\n",
       "      <th>55226</th>\n",
       "      <td>2016-05-18</td>\n",
       "      <td>2016-05-17</td>\n",
       "    </tr>\n",
       "    <tr>\n",
       "      <th>64175</th>\n",
       "      <td>2016-05-05</td>\n",
       "      <td>2016-05-04</td>\n",
       "    </tr>\n",
       "    <tr>\n",
       "      <th>71533</th>\n",
       "      <td>2016-05-11</td>\n",
       "      <td>2016-05-05</td>\n",
       "    </tr>\n",
       "    <tr>\n",
       "      <th>72362</th>\n",
       "      <td>2016-05-04</td>\n",
       "      <td>2016-05-03</td>\n",
       "    </tr>\n",
       "  </tbody>\n",
       "</table>\n",
       "</div>"
      ],
      "text/plain": [
       "      ScheduledDay AppointmentDay\n",
       "27033   2016-05-10     2016-05-09\n",
       "55226   2016-05-18     2016-05-17\n",
       "64175   2016-05-05     2016-05-04\n",
       "71533   2016-05-11     2016-05-05\n",
       "72362   2016-05-04     2016-05-03"
      ]
     },
     "execution_count": 11,
     "metadata": {},
     "output_type": "execute_result"
    }
   ],
   "source": [
    "# checking that scheduled day is before appointment day\n",
    "check = df[df['ScheduledDay'] > df['AppointmentDay']][['ScheduledDay','AppointmentDay']]\n",
    "check"
   ]
  },
  {
   "cell_type": "code",
   "execution_count": 12,
   "id": "5e3ccf33",
   "metadata": {},
   "outputs": [],
   "source": [
    "#drop uncurrect rows\n",
    "check.drop(check.index,axis=0,inplace=True)"
   ]
  },
  {
   "cell_type": "code",
   "execution_count": 13,
   "id": "9d6f3485",
   "metadata": {},
   "outputs": [],
   "source": [
    "#delet columns do not use it \n",
    "df.drop(['AppointmentID','Scholarship'],axis=1,inplace=True)"
   ]
  },
  {
   "cell_type": "code",
   "execution_count": 14,
   "id": "fe528e37",
   "metadata": {},
   "outputs": [],
   "source": [
    "#creat column day of appointment\n",
    "df.insert(4,'DayOfAppointment',pd.to_datetime(df['AppointmentDay']).dt.day_name())"
   ]
  },
  {
   "cell_type": "code",
   "execution_count": 15,
   "id": "eeb73777",
   "metadata": {},
   "outputs": [
    {
     "data": {
      "text/plain": [
       "(106987, 13)"
      ]
     },
     "execution_count": 15,
     "metadata": {},
     "output_type": "execute_result"
    }
   ],
   "source": [
    "df.shape"
   ]
  },
  {
   "cell_type": "code",
   "execution_count": 16,
   "id": "23c64461",
   "metadata": {},
   "outputs": [
    {
     "data": {
      "text/html": [
       "<div>\n",
       "<style scoped>\n",
       "    .dataframe tbody tr th:only-of-type {\n",
       "        vertical-align: middle;\n",
       "    }\n",
       "\n",
       "    .dataframe tbody tr th {\n",
       "        vertical-align: top;\n",
       "    }\n",
       "\n",
       "    .dataframe thead th {\n",
       "        text-align: right;\n",
       "    }\n",
       "</style>\n",
       "<table border=\"1\" class=\"dataframe\">\n",
       "  <thead>\n",
       "    <tr style=\"text-align: right;\">\n",
       "      <th></th>\n",
       "      <th>PatientId</th>\n",
       "      <th>Gender</th>\n",
       "      <th>ScheduledDay</th>\n",
       "      <th>AppointmentDay</th>\n",
       "      <th>DayOfAppointment</th>\n",
       "      <th>Age</th>\n",
       "      <th>Neighbourhood</th>\n",
       "      <th>Hipertension</th>\n",
       "      <th>Diabetes</th>\n",
       "      <th>Alcoholism</th>\n",
       "      <th>Handcap</th>\n",
       "      <th>SMS_received</th>\n",
       "      <th>No-show</th>\n",
       "    </tr>\n",
       "  </thead>\n",
       "  <tbody>\n",
       "    <tr>\n",
       "      <th>0</th>\n",
       "      <td>2.987250e+13</td>\n",
       "      <td>F</td>\n",
       "      <td>2016-04-29</td>\n",
       "      <td>2016-04-29</td>\n",
       "      <td>Friday</td>\n",
       "      <td>62</td>\n",
       "      <td>JARDIM DA PENHA</td>\n",
       "      <td>1</td>\n",
       "      <td>0</td>\n",
       "      <td>0</td>\n",
       "      <td>0</td>\n",
       "      <td>0</td>\n",
       "      <td>No</td>\n",
       "    </tr>\n",
       "    <tr>\n",
       "      <th>1</th>\n",
       "      <td>5.589978e+14</td>\n",
       "      <td>M</td>\n",
       "      <td>2016-04-29</td>\n",
       "      <td>2016-04-29</td>\n",
       "      <td>Friday</td>\n",
       "      <td>56</td>\n",
       "      <td>JARDIM DA PENHA</td>\n",
       "      <td>0</td>\n",
       "      <td>0</td>\n",
       "      <td>0</td>\n",
       "      <td>0</td>\n",
       "      <td>0</td>\n",
       "      <td>No</td>\n",
       "    </tr>\n",
       "    <tr>\n",
       "      <th>2</th>\n",
       "      <td>4.262962e+12</td>\n",
       "      <td>F</td>\n",
       "      <td>2016-04-29</td>\n",
       "      <td>2016-04-29</td>\n",
       "      <td>Friday</td>\n",
       "      <td>62</td>\n",
       "      <td>MATA DA PRAIA</td>\n",
       "      <td>0</td>\n",
       "      <td>0</td>\n",
       "      <td>0</td>\n",
       "      <td>0</td>\n",
       "      <td>0</td>\n",
       "      <td>No</td>\n",
       "    </tr>\n",
       "    <tr>\n",
       "      <th>3</th>\n",
       "      <td>8.679512e+11</td>\n",
       "      <td>F</td>\n",
       "      <td>2016-04-29</td>\n",
       "      <td>2016-04-29</td>\n",
       "      <td>Friday</td>\n",
       "      <td>8</td>\n",
       "      <td>PONTAL DE CAMBURI</td>\n",
       "      <td>0</td>\n",
       "      <td>0</td>\n",
       "      <td>0</td>\n",
       "      <td>0</td>\n",
       "      <td>0</td>\n",
       "      <td>No</td>\n",
       "    </tr>\n",
       "    <tr>\n",
       "      <th>4</th>\n",
       "      <td>8.841186e+12</td>\n",
       "      <td>F</td>\n",
       "      <td>2016-04-29</td>\n",
       "      <td>2016-04-29</td>\n",
       "      <td>Friday</td>\n",
       "      <td>56</td>\n",
       "      <td>JARDIM DA PENHA</td>\n",
       "      <td>1</td>\n",
       "      <td>1</td>\n",
       "      <td>0</td>\n",
       "      <td>0</td>\n",
       "      <td>0</td>\n",
       "      <td>No</td>\n",
       "    </tr>\n",
       "  </tbody>\n",
       "</table>\n",
       "</div>"
      ],
      "text/plain": [
       "      PatientId Gender ScheduledDay AppointmentDay DayOfAppointment  Age  \\\n",
       "0  2.987250e+13      F   2016-04-29     2016-04-29           Friday   62   \n",
       "1  5.589978e+14      M   2016-04-29     2016-04-29           Friday   56   \n",
       "2  4.262962e+12      F   2016-04-29     2016-04-29           Friday   62   \n",
       "3  8.679512e+11      F   2016-04-29     2016-04-29           Friday    8   \n",
       "4  8.841186e+12      F   2016-04-29     2016-04-29           Friday   56   \n",
       "\n",
       "       Neighbourhood  Hipertension  Diabetes  Alcoholism  Handcap  \\\n",
       "0    JARDIM DA PENHA             1         0           0        0   \n",
       "1    JARDIM DA PENHA             0         0           0        0   \n",
       "2      MATA DA PRAIA             0         0           0        0   \n",
       "3  PONTAL DE CAMBURI             0         0           0        0   \n",
       "4    JARDIM DA PENHA             1         1           0        0   \n",
       "\n",
       "   SMS_received No-show  \n",
       "0             0      No  \n",
       "1             0      No  \n",
       "2             0      No  \n",
       "3             0      No  \n",
       "4             0      No  "
      ]
     },
     "execution_count": 16,
     "metadata": {},
     "output_type": "execute_result"
    }
   ],
   "source": [
    "df.head()"
   ]
  },
  {
   "cell_type": "markdown",
   "id": "ec9a3081",
   "metadata": {},
   "source": [
    "# Exploring Data"
   ]
  },
  {
   "cell_type": "code",
   "execution_count": 17,
   "id": "d24e8d85",
   "metadata": {},
   "outputs": [],
   "source": [
    "#function to help create show df for disease \n",
    "def disease_no_show(df):\n",
    "    return df[df['No-show']=='Yes']\n",
    "#function to help create No show df for disease \n",
    "def disease_show(df):\n",
    "    return df[df['No-show']=='No']"
   ]
  },
  {
   "cell_type": "markdown",
   "id": "b83a228d",
   "metadata": {},
   "source": [
    "###  1) Correlation of values with each other"
   ]
  },
  {
   "cell_type": "code",
   "execution_count": 18,
   "id": "790775d5",
   "metadata": {},
   "outputs": [
    {
     "data": {
      "text/html": [
       "<style  type=\"text/css\" >\n",
       "#T_b4b12_row0_col0,#T_b4b12_row1_col1,#T_b4b12_row2_col2,#T_b4b12_row3_col3,#T_b4b12_row4_col4,#T_b4b12_row5_col5,#T_b4b12_row6_col6{\n",
       "            background-color:  #b40426;\n",
       "            color:  #f1f1f1;\n",
       "        }#T_b4b12_row0_col1,#T_b4b12_row0_col2,#T_b4b12_row2_col0,#T_b4b12_row4_col6,#T_b4b12_row5_col0,#T_b4b12_row5_col6,#T_b4b12_row6_col0,#T_b4b12_row6_col2,#T_b4b12_row6_col3,#T_b4b12_row6_col4,#T_b4b12_row6_col5{\n",
       "            background-color:  #3b4cc0;\n",
       "            color:  #f1f1f1;\n",
       "        }#T_b4b12_row0_col3,#T_b4b12_row0_col5,#T_b4b12_row0_col6,#T_b4b12_row2_col6{\n",
       "            background-color:  #3f53c6;\n",
       "            color:  #f1f1f1;\n",
       "        }#T_b4b12_row0_col4{\n",
       "            background-color:  #455cce;\n",
       "            color:  #f1f1f1;\n",
       "        }#T_b4b12_row1_col0{\n",
       "            background-color:  #3c4ec2;\n",
       "            color:  #f1f1f1;\n",
       "        }#T_b4b12_row1_col2{\n",
       "            background-color:  #dedcdb;\n",
       "            color:  #000000;\n",
       "        }#T_b4b12_row1_col3{\n",
       "            background-color:  #9fbfff;\n",
       "            color:  #000000;\n",
       "        }#T_b4b12_row1_col4{\n",
       "            background-color:  #5e7de7;\n",
       "            color:  #000000;\n",
       "        }#T_b4b12_row1_col5{\n",
       "            background-color:  #5a78e4;\n",
       "            color:  #000000;\n",
       "        }#T_b4b12_row1_col6,#T_b4b12_row4_col3{\n",
       "            background-color:  #445acc;\n",
       "            color:  #f1f1f1;\n",
       "        }#T_b4b12_row2_col1{\n",
       "            background-color:  #dddcdc;\n",
       "            color:  #000000;\n",
       "        }#T_b4b12_row2_col3{\n",
       "            background-color:  #ccd9ed;\n",
       "            color:  #000000;\n",
       "        }#T_b4b12_row2_col4{\n",
       "            background-color:  #5d7ce6;\n",
       "            color:  #000000;\n",
       "        }#T_b4b12_row2_col5{\n",
       "            background-color:  #5b7ae5;\n",
       "            color:  #000000;\n",
       "        }#T_b4b12_row3_col0,#T_b4b12_row3_col6,#T_b4b12_row6_col1{\n",
       "            background-color:  #3d50c3;\n",
       "            color:  #f1f1f1;\n",
       "        }#T_b4b12_row3_col1{\n",
       "            background-color:  #9bbcff;\n",
       "            color:  #000000;\n",
       "        }#T_b4b12_row3_col2{\n",
       "            background-color:  #cbd8ee;\n",
       "            color:  #000000;\n",
       "        }#T_b4b12_row3_col4{\n",
       "            background-color:  #485fd1;\n",
       "            color:  #f1f1f1;\n",
       "        }#T_b4b12_row3_col5,#T_b4b12_row5_col1{\n",
       "            background-color:  #5470de;\n",
       "            color:  #000000;\n",
       "        }#T_b4b12_row4_col0{\n",
       "            background-color:  #4055c8;\n",
       "            color:  #f1f1f1;\n",
       "        }#T_b4b12_row4_col1,#T_b4b12_row4_col2,#T_b4b12_row5_col2{\n",
       "            background-color:  #5673e0;\n",
       "            color:  #000000;\n",
       "        }#T_b4b12_row4_col5,#T_b4b12_row5_col4{\n",
       "            background-color:  #4358cb;\n",
       "            color:  #f1f1f1;\n",
       "        }#T_b4b12_row5_col3{\n",
       "            background-color:  #506bda;\n",
       "            color:  #000000;\n",
       "        }</style><table id=\"T_b4b12_\" ><thead>    <tr>        <th class=\"blank level0\" ></th>        <th class=\"col_heading level0 col0\" >PatientId</th>        <th class=\"col_heading level0 col1\" >Age</th>        <th class=\"col_heading level0 col2\" >Hipertension</th>        <th class=\"col_heading level0 col3\" >Diabetes</th>        <th class=\"col_heading level0 col4\" >Alcoholism</th>        <th class=\"col_heading level0 col5\" >Handcap</th>        <th class=\"col_heading level0 col6\" >SMS_received</th>    </tr></thead><tbody>\n",
       "                <tr>\n",
       "                        <th id=\"T_b4b12_level0_row0\" class=\"row_heading level0 row0\" >PatientId</th>\n",
       "                        <td id=\"T_b4b12_row0_col0\" class=\"data row0 col0\" >1.000000</td>\n",
       "                        <td id=\"T_b4b12_row0_col1\" class=\"data row0 col1\" >-0.002970</td>\n",
       "                        <td id=\"T_b4b12_row0_col2\" class=\"data row0 col2\" >-0.006155</td>\n",
       "                        <td id=\"T_b4b12_row0_col3\" class=\"data row0 col3\" >0.001873</td>\n",
       "                        <td id=\"T_b4b12_row0_col4\" class=\"data row0 col4\" >0.011361</td>\n",
       "                        <td id=\"T_b4b12_row0_col5\" class=\"data row0 col5\" >-0.008748</td>\n",
       "                        <td id=\"T_b4b12_row0_col6\" class=\"data row0 col6\" >-0.008468</td>\n",
       "            </tr>\n",
       "            <tr>\n",
       "                        <th id=\"T_b4b12_level0_row1\" class=\"row_heading level0 row1\" >Age</th>\n",
       "                        <td id=\"T_b4b12_row1_col0\" class=\"data row1 col0\" >-0.002970</td>\n",
       "                        <td id=\"T_b4b12_row1_col1\" class=\"data row1 col1\" >1.000000</td>\n",
       "                        <td id=\"T_b4b12_row1_col2\" class=\"data row1 col2\" >0.502091</td>\n",
       "                        <td id=\"T_b4b12_row1_col3\" class=\"data row1 col3\" >0.290631</td>\n",
       "                        <td id=\"T_b4b12_row1_col4\" class=\"data row1 col4\" >0.090391</td>\n",
       "                        <td id=\"T_b4b12_row1_col5\" class=\"data row1 col5\" >0.079726</td>\n",
       "                        <td id=\"T_b4b12_row1_col6\" class=\"data row1 col6\" >0.005251</td>\n",
       "            </tr>\n",
       "            <tr>\n",
       "                        <th id=\"T_b4b12_level0_row2\" class=\"row_heading level0 row2\" >Hipertension</th>\n",
       "                        <td id=\"T_b4b12_row2_col0\" class=\"data row2 col0\" >-0.006155</td>\n",
       "                        <td id=\"T_b4b12_row2_col1\" class=\"data row2 col1\" >0.502091</td>\n",
       "                        <td id=\"T_b4b12_row2_col2\" class=\"data row2 col2\" >1.000000</td>\n",
       "                        <td id=\"T_b4b12_row2_col3\" class=\"data row2 col3\" >0.430827</td>\n",
       "                        <td id=\"T_b4b12_row2_col4\" class=\"data row2 col4\" >0.085459</td>\n",
       "                        <td id=\"T_b4b12_row2_col5\" class=\"data row2 col5\" >0.082909</td>\n",
       "                        <td id=\"T_b4b12_row2_col6\" class=\"data row2 col6\" >-0.008805</td>\n",
       "            </tr>\n",
       "            <tr>\n",
       "                        <th id=\"T_b4b12_level0_row3\" class=\"row_heading level0 row3\" >Diabetes</th>\n",
       "                        <td id=\"T_b4b12_row3_col0\" class=\"data row3 col0\" >0.001873</td>\n",
       "                        <td id=\"T_b4b12_row3_col1\" class=\"data row3 col1\" >0.290631</td>\n",
       "                        <td id=\"T_b4b12_row3_col2\" class=\"data row3 col2\" >0.430827</td>\n",
       "                        <td id=\"T_b4b12_row3_col3\" class=\"data row3 col3\" >1.000000</td>\n",
       "                        <td id=\"T_b4b12_row3_col4\" class=\"data row3 col4\" >0.016874</td>\n",
       "                        <td id=\"T_b4b12_row3_col5\" class=\"data row3 col5\" >0.057945</td>\n",
       "                        <td id=\"T_b4b12_row3_col6\" class=\"data row3 col6\" >-0.016136</td>\n",
       "            </tr>\n",
       "            <tr>\n",
       "                        <th id=\"T_b4b12_level0_row4\" class=\"row_heading level0 row4\" >Alcoholism</th>\n",
       "                        <td id=\"T_b4b12_row4_col0\" class=\"data row4 col0\" >0.011361</td>\n",
       "                        <td id=\"T_b4b12_row4_col1\" class=\"data row4 col1\" >0.090391</td>\n",
       "                        <td id=\"T_b4b12_row4_col2\" class=\"data row4 col2\" >0.085459</td>\n",
       "                        <td id=\"T_b4b12_row4_col3\" class=\"data row4 col3\" >0.016874</td>\n",
       "                        <td id=\"T_b4b12_row4_col4\" class=\"data row4 col4\" >1.000000</td>\n",
       "                        <td id=\"T_b4b12_row4_col5\" class=\"data row4 col5\" >0.002864</td>\n",
       "                        <td id=\"T_b4b12_row4_col6\" class=\"data row4 col6\" >-0.027403</td>\n",
       "            </tr>\n",
       "            <tr>\n",
       "                        <th id=\"T_b4b12_level0_row5\" class=\"row_heading level0 row5\" >Handcap</th>\n",
       "                        <td id=\"T_b4b12_row5_col0\" class=\"data row5 col0\" >-0.008748</td>\n",
       "                        <td id=\"T_b4b12_row5_col1\" class=\"data row5 col1\" >0.079726</td>\n",
       "                        <td id=\"T_b4b12_row5_col2\" class=\"data row5 col2\" >0.082909</td>\n",
       "                        <td id=\"T_b4b12_row5_col3\" class=\"data row5 col3\" >0.057945</td>\n",
       "                        <td id=\"T_b4b12_row5_col4\" class=\"data row5 col4\" >0.002864</td>\n",
       "                        <td id=\"T_b4b12_row5_col5\" class=\"data row5 col5\" >1.000000</td>\n",
       "                        <td id=\"T_b4b12_row5_col6\" class=\"data row5 col6\" >-0.026256</td>\n",
       "            </tr>\n",
       "            <tr>\n",
       "                        <th id=\"T_b4b12_level0_row6\" class=\"row_heading level0 row6\" >SMS_received</th>\n",
       "                        <td id=\"T_b4b12_row6_col0\" class=\"data row6 col0\" >-0.008468</td>\n",
       "                        <td id=\"T_b4b12_row6_col1\" class=\"data row6 col1\" >0.005251</td>\n",
       "                        <td id=\"T_b4b12_row6_col2\" class=\"data row6 col2\" >-0.008805</td>\n",
       "                        <td id=\"T_b4b12_row6_col3\" class=\"data row6 col3\" >-0.016136</td>\n",
       "                        <td id=\"T_b4b12_row6_col4\" class=\"data row6 col4\" >-0.027403</td>\n",
       "                        <td id=\"T_b4b12_row6_col5\" class=\"data row6 col5\" >-0.026256</td>\n",
       "                        <td id=\"T_b4b12_row6_col6\" class=\"data row6 col6\" >1.000000</td>\n",
       "            </tr>\n",
       "    </tbody></table>"
      ],
      "text/plain": [
       "<pandas.io.formats.style.Styler at 0x13192239a00>"
      ]
     },
     "execution_count": 18,
     "metadata": {},
     "output_type": "execute_result"
    }
   ],
   "source": [
    "corr=df.corr()\n",
    "corr.style.background_gradient(cmap='coolwarm')"
   ]
  },
  {
   "cell_type": "markdown",
   "id": "1a522543",
   "metadata": {},
   "source": [
    "### 2) Lets first take a peek in the gender based on the count of show up or no show."
   ]
  },
  {
   "cell_type": "code",
   "execution_count": 19,
   "id": "545c8497",
   "metadata": {},
   "outputs": [
    {
     "data": {
      "text/plain": [
       "Gender  No-show\n",
       "F       No         55843\n",
       "        Yes        14275\n",
       "M       No         29464\n",
       "        Yes         7405\n",
       "Name: PatientId, dtype: int64"
      ]
     },
     "execution_count": 19,
     "metadata": {},
     "output_type": "execute_result"
    }
   ],
   "source": [
    "df.groupby(['Gender','No-show']).count()['PatientId']"
   ]
  },
  {
   "cell_type": "markdown",
   "id": "20906a97",
   "metadata": {},
   "source": [
    "### 3) number of patients in Neighbourhood \n",
    "\n",
    "###### we want know which countries have large number of patient , it make us think about the reasons why this countries are full of patients and why patient not attend the appoientment"
   ]
  },
  {
   "cell_type": "code",
   "execution_count": 20,
   "id": "411a670c",
   "metadata": {},
   "outputs": [
    {
     "data": {
      "image/png": "[encoded data removed]",
      "text/plain": [
       "<Figure size 2160x720 with 1 Axes>"
      ]
     },
     "metadata": {
      "needs_background": "light"
     },
     "output_type": "display_data"
    }
   ],
   "source": [
    "df['Neighbourhood'].value_counts().plot(kind='bar',alpha=0.5,figsize=(30,10))\n",
    "disease_no_show(df)['Neighbourhood'].value_counts().plot(kind='bar',figsize=(30,10));"
   ]
  },
  {
   "cell_type": "markdown",
   "id": "b7db4f16",
   "metadata": {},
   "source": [
    "### 4) messages not sent to the patient and attend the appointment   VS   messages not sent to the patient and attend the appointment \n",
    "\n",
    "###### we want know if SMS helps patients to attend the appointment ."
   ]
  },
  {
   "cell_type": "code",
   "execution_count": 21,
   "id": "db3cf7a8",
   "metadata": {},
   "outputs": [
    {
     "data": {
      "image/png": "[encoded data removed]",
      "text/plain": [
       "<Figure size 432x288 with 1 Axes>"
      ]
     },
     "metadata": {
      "needs_background": "light"
     },
     "output_type": "display_data"
    }
   ],
   "source": [
    "#patients attend by sms \n",
    "df_sms_1=df[df['SMS_received']==1]\n",
    "attend_with_sms= df_sms_1['No-show'].value_counts()[1] / df_sms_1.shape[0]\n",
    "#patients attend without sms\n",
    "df_sms_0=df[df['SMS_received']==0]\n",
    "attend_without_sms= df_sms_0['No-show'].value_counts()[1] / df_sms_0.shape[0]\n",
    "y=[attend_with_sms,attend_without_sms]\n",
    "x=['attend_with_sms','attend_without_sms']\n",
    "plt.bar(x,y,width=.25,color=['orange','blue'])\n",
    "plt.title('Attedandce rates');"
   ]
  },
  {
   "cell_type": "markdown",
   "id": "b38d7829",
   "metadata": {},
   "source": [
    "###### and as I expected , the ratio who received an SMS  and attended is higher than the patients who did not receive an SMS"
   ]
  },
  {
   "cell_type": "markdown",
   "id": "1e53dd31",
   "metadata": {},
   "source": [
    "### 5) number of patients who booked an appointment attended or no"
   ]
  },
  {
   "cell_type": "code",
   "execution_count": 22,
   "id": "69e5d885",
   "metadata": {},
   "outputs": [
    {
     "name": "stdout",
     "output_type": "stream",
     "text": [
      "No     85307\n",
      "Yes    21680\n",
      "Name: No-show, dtype: int64\n"
     ]
    },
    {
     "data": {
      "image/png": "[encoded data removed]",
      "text/plain": [
       "<Figure size 432x432 with 1 Axes>"
      ]
     },
     "metadata": {},
     "output_type": "display_data"
    }
   ],
   "source": [
    "print(df['No-show'].value_counts())\n",
    "df['No-show'].value_counts().plot(kind='pie',autopct='%1.f%%',figsize=(6,6));"
   ]
  },
  {
   "cell_type": "markdown",
   "id": "33aa5f1b",
   "metadata": {},
   "source": [
    "###### it help us to know  percentage of  patient and make us clearly think about data  \n",
    "###### this pie chart shows that the percentage of non attendance is much greater than percentage of  attendance , and this make us wonder about the reasons that led to the increase in the perecentage of non attendance in a noticeable way "
   ]
  },
  {
   "cell_type": "markdown",
   "id": "6b20f316",
   "metadata": {},
   "source": [
    "### 6) Do you attend the appointment depend on types of disease Hipertension,Diabetes,Alcoholism,Handcap ? "
   ]
  },
  {
   "cell_type": "code",
   "execution_count": 23,
   "id": "dd7ed487",
   "metadata": {},
   "outputs": [
    {
     "data": {
      "image/png": "[encoded data removed]",
      "text/plain": [
       "<Figure size 432x288 with 1 Axes>"
      ]
     },
     "metadata": {
      "needs_background": "light"
     },
     "output_type": "display_data"
    }
   ],
   "source": [
    "#patient who attend the appointment depend on types of disease  \n",
    "x=(disease_no_show(df)['Hipertension']==1).mean()\n",
    "y=(disease_no_show(df)['Diabetes']==1).mean()\n",
    "z=(disease_no_show(df)['Alcoholism']==1).mean()\n",
    "j=(disease_no_show(df)['Handcap']==1).mean()\n",
    "have_disease=[x,y,z,j]\n",
    "#patient who attend the appointment independ on types of disease\n",
    "a=(disease_no_show(df)['Hipertension']==0).mean()\n",
    "b=(disease_no_show(df)['Diabetes']==0).mean()\n",
    "c=(disease_no_show(df)['Alcoholism']==0).mean()\n",
    "d=(disease_no_show(df)['Handcap']==0).mean()\n",
    "no_have_disease=[a,b,c,d]\n",
    "\n",
    "dic={\n",
    "    'have_disease':have_disease,\n",
    "    'no_have_disease':no_have_disease\n",
    "}\n",
    "index=['Hipertension','Diabetes','Alcoholism','Handcap']\n",
    "\n",
    "bar_data_frame=pd.DataFrame(dic,index=index).plot(kind='bar')\n",
    "plt.xlabel('disease')\n",
    "plt.ylabel('num_patient')\n",
    "plt.title('Attending Based On Disease');"
   ]
  },
  {
   "cell_type": "markdown",
   "id": "b5b3ab9c",
   "metadata": {},
   "source": [
    "###### it is know that the presence of a certain disease in the patient leads to attending the appointment such as Diabetes and Hipertension ,but not always.\n",
    "###### thare are diseases such as Alcoholism that do not bother to attend the appointment "
   ]
  },
  {
   "cell_type": "markdown",
   "id": "024a7f04",
   "metadata": {},
   "source": [
    "### 7)number of male and female"
   ]
  },
  {
   "cell_type": "code",
   "execution_count": 24,
   "id": "794fe6e6",
   "metadata": {},
   "outputs": [
    {
     "name": "stdout",
     "output_type": "stream",
     "text": [
      "F    70118\n",
      "M    36869\n",
      "Name: Gender, dtype: int64\n"
     ]
    },
    {
     "data": {
      "image/png": "[encoded data removed]",
      "text/plain": [
       "<Figure size 432x432 with 1 Axes>"
      ]
     },
     "metadata": {},
     "output_type": "display_data"
    }
   ],
   "source": [
    "print(df['Gender'].value_counts())\n",
    "df['Gender'].value_counts().plot(kind='pie',autopct='%1.f%%',figsize=(6,6));"
   ]
  },
  {
   "cell_type": "markdown",
   "id": "54c5cd51",
   "metadata": {},
   "source": [
    "###### it is clear to say that women takes way more care of they health in comparison to men"
   ]
  },
  {
   "cell_type": "markdown",
   "id": "de7e8551",
   "metadata": {},
   "source": [
    "### 8) Age of patient\n",
    "\n",
    "###### we want to know the distribution of age to men and women "
   ]
  },
  {
   "cell_type": "code",
   "execution_count": 25,
   "id": "5e37cb49",
   "metadata": {},
   "outputs": [
    {
     "data": {
      "image/png": "[encoded data removed]",
      "text/plain": [
       "<Figure size 432x288 with 1 Axes>"
      ]
     },
     "metadata": {
      "needs_background": "light"
     },
     "output_type": "display_data"
    }
   ],
   "source": [
    "#age of women\n",
    "df[df['Gender']=='F']['Age'].plot(kind='hist' , label='female')\n",
    "#age of men\n",
    "df[df['Gender']=='M']['Age'].plot(kind='hist',label='male')\n",
    "plt.legend()\n",
    "plt.xlabel('ge')\n",
    "plt.ylabel('patient counts')\n",
    "plt.title('Age distribution between gender');"
   ]
  },
  {
   "cell_type": "markdown",
   "id": "044ab92a",
   "metadata": {},
   "source": [
    "###### the age of men appear to be the same as that of women"
   ]
  },
  {
   "cell_type": "markdown",
   "id": "af111683",
   "metadata": {},
   "source": [
    "### 9) which day of the week has the most precentage of appointments ?\n",
    "\n",
    "###### it is possible that the days affect the attendance of appointment,so I made line chart of days of the appointment and another drowing of the days of attending the appointments "
   ]
  },
  {
   "cell_type": "code",
   "execution_count": 26,
   "id": "32b3d9f9",
   "metadata": {},
   "outputs": [
    {
     "data": {
      "image/png": "[encoded data removed]",
      "text/plain": [
       "<Figure size 432x288 with 1 Axes>"
      ]
     },
     "metadata": {
      "needs_background": "light"
     },
     "output_type": "display_data"
    }
   ],
   "source": [
    "#summerize Day Of Appointment \n",
    "x=df.groupby('DayOfAppointment')['PatientId'].count()\n",
    "#summerize Day Of Appointment that patient attended \n",
    "y=disease_no_show(df).groupby('DayOfAppointment')['PatientId'].count()\n",
    "\n",
    "plt.plot(x.index,x.values,marker='o',label='Not Attend')\n",
    "plt.plot(y.index,y.values,marker='o',label='Attend')\n",
    "plt.title('day of appointment')\n",
    "plt.xlabel('days')\n",
    "plt.ylabel('num_patient')\n",
    "plt.legend()\n",
    "plt.grid();"
   ]
  },
  {
   "cell_type": "markdown",
   "id": "926667dd",
   "metadata": {},
   "source": [
    "###### obvouisly , it gets crowded on tuesday and wednesday but not in saturday"
   ]
  },
  {
   "cell_type": "markdown",
   "id": "0f0e70f4",
   "metadata": {},
   "source": [
    "### 10) Age of patients show and no show appointment"
   ]
  },
  {
   "cell_type": "code",
   "execution_count": 27,
   "id": "250d57a4",
   "metadata": {},
   "outputs": [
    {
     "data": {
      "image/png": "[encoded data removed]",
      "text/plain": [
       "<Figure size 432x288 with 1 Axes>"
      ]
     },
     "metadata": {
      "needs_background": "light"
     },
     "output_type": "display_data"
    }
   ],
   "source": [
    "#age of patient attend the appointment \n",
    "disease_no_show(df)['Age'].plot(kind='hist',label='attend')\n",
    "#age of patient not attend the appointment\n",
    "disease_show(df)['Age'].plot(kind='hist',alpha=0.5,label='not attend')\n",
    "plt.xlabel('Age')\n",
    "plt.ylabel('num_patient')\n",
    "plt.title('Age of patient')\n",
    "plt.legend();"
   ]
  },
  {
   "cell_type": "markdown",
   "id": "b14e3c94",
   "metadata": {},
   "source": [
    "###### Age seems to be an important factor to know in order to predict if a patient will show up for their scheduled appointment where middle-aged patients seem less prone not to show up"
   ]
  },
  {
   "cell_type": "markdown",
   "id": "1e3c5c2b",
   "metadata": {},
   "source": [
    "# conclusion\n",
    " \n",
    "###### 1-  Woman takes way more care of they health in comparison to man.\n",
    "###### 2- Hypertension is factor for higher attendance frequency.\n",
    "###### 3- Patient append the appointment by SMS received is higher than SMS un-received .\n",
    "###### 4- Hypertension and diabetes are strong features that affect showing up of the patient.\n",
    "###### 5- Alcoholism seems to be an important factor where alcoholic patients seem not to tend to show for the appointment more than non-alcoholic ones, which is a special case where suffering from an illness is actually positevely correlated with not showing up unlike other illnesses and disabilities which negatively correlates\n",
    "###### 6- Saturday may be holiday because did not have any appointment .\n",
    "######  7- The number of days between the day the patient called or registered the appointment and the day of the actual appointment seem to be an important factor where a low number of days seems to be associated with a lower chance of not showing for the appointment\n",
    "###### 8- Handicap column has five different values(0,1,2,3,4) after alot of research I figured out that 1 to 4 is handicapped with difference precentage of the handicap, so I converted (1,2,3,4) to 1 that means handicap and 0 not handicapped.\n",
    "## limitation\n",
    "###### 1- the project being limited to exploratory data analysis (the absence of machine learning). I could have extracted a lot of human-understandable insights from machine learning models and gained a lot more knowledge in regards to the importance of the variables in relation to the target variable, which would limit any wrong deduction of a cause-and-effect relationship that may happen.\n",
    "###### 2- distance between the hospital and destination, insurance situation, education level would be helpful for better analysis\n",
    "###### 3- data collected between 29/4/2016 and 6/6/2016. If data had been collected over a period of more than one year, it would better reflect time-dependent changes\n",
    "###### 4- doctor's specialty may also be correlated with missed appointment"
   ]
  },
  {
   "cell_type": "code",
   "execution_count": null,
   "id": "00170370",
   "metadata": {},
   "outputs": [],
   "source": []
  }
 ],
 "metadata": {
  "kernelspec": {
   "display_name": "Python 3",
   "language": "python",
   "name": "python3"
  },
  "language_info": {
   "codemirror_mode": {
    "name": "ipython",
    "version": 3
   },
   "file_extension": ".py",
   "mimetype": "text/x-python",
   "name": "python",
   "nbconvert_exporter": "python",
   "pygments_lexer": "ipython3",
   "version": "3.8.8"
  }
 },
 "nbformat": 4,
 "nbformat_minor": 5
}
